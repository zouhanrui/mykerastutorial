{
 "cells": [
  {
   "cell_type": "code",
   "execution_count": 36,
   "metadata": {},
   "outputs": [],
   "source": [
    "from Preprocessing import *\n",
    "import tensorflow as tf"
   ]
  },
  {
   "cell_type": "code",
   "execution_count": 37,
   "metadata": {},
   "outputs": [],
   "source": [
    "model = tf.keras.Sequential([\n",
    "    tf.layers.Dense(16, input_shape=(1,), activation=tf.nn.relu),\n",
    "    tf.layers.Dense(32, activation=tf.nn.relu),\n",
    "    tf.layers.Dense(2, activation=tf.nn.softmax)\n",
    "])"
   ]
  },
  {
   "cell_type": "code",
   "execution_count": 38,
   "metadata": {},
   "outputs": [
    {
     "name": "stdout",
     "output_type": "stream",
     "text": [
      "_________________________________________________________________\n",
      "Layer (type)                 Output Shape              Param #   \n",
      "=================================================================\n",
      "dense_13 (Dense)             (None, 16)                32        \n",
      "_________________________________________________________________\n",
      "dense_14 (Dense)             (None, 32)                544       \n",
      "_________________________________________________________________\n",
      "dense_15 (Dense)             (None, 2)                 66        \n",
      "=================================================================\n",
      "Total params: 642\n",
      "Trainable params: 642\n",
      "Non-trainable params: 0\n",
      "_________________________________________________________________\n"
     ]
    }
   ],
   "source": [
    "model.summary()"
   ]
  },
  {
   "cell_type": "code",
   "execution_count": 39,
   "metadata": {},
   "outputs": [],
   "source": [
    "model.compile(tf.train.AdamOptimizer(learning_rate=1e-3), loss='sparse_categorical_crossentropy', metrics=['accuracy'])"
   ]
  },
  {
   "cell_type": "code",
   "execution_count": 40,
   "metadata": {},
   "outputs": [
    {
     "name": "stdout",
     "output_type": "stream",
     "text": [
      "Train on 1800 samples, validate on 200 samples\n",
      "Epoch 1/20\n",
      "1800/1800 [==============================] - 0s 269us/step - loss: 0.6495 - acc: 0.6311 - val_loss: 0.5906 - val_acc: 0.7200\n",
      "Epoch 2/20\n",
      "1800/1800 [==============================] - 0s 139us/step - loss: 0.5684 - acc: 0.7617 - val_loss: 0.5602 - val_acc: 0.7800\n",
      "Epoch 3/20\n",
      "1800/1800 [==============================] - 0s 135us/step - loss: 0.5552 - acc: 0.7667 - val_loss: 0.5731 - val_acc: 0.7000\n",
      "Epoch 4/20\n",
      "1800/1800 [==============================] - 0s 140us/step - loss: 0.5524 - acc: 0.7694 - val_loss: 0.5711 - val_acc: 0.7000\n",
      "Epoch 5/20\n",
      "1800/1800 [==============================] - 0s 143us/step - loss: 0.5499 - acc: 0.7572 - val_loss: 0.5930 - val_acc: 0.6800\n",
      "Epoch 6/20\n",
      "1800/1800 [==============================] - 0s 144us/step - loss: 0.5505 - acc: 0.7617 - val_loss: 0.5704 - val_acc: 0.7000\n",
      "Epoch 7/20\n",
      "1800/1800 [==============================] - 0s 144us/step - loss: 0.5495 - acc: 0.7656 - val_loss: 0.5785 - val_acc: 0.6950\n",
      "Epoch 8/20\n",
      "1800/1800 [==============================] - 0s 140us/step - loss: 0.5495 - acc: 0.7633 - val_loss: 0.5751 - val_acc: 0.7000\n",
      "Epoch 9/20\n",
      "1800/1800 [==============================] - 0s 138us/step - loss: 0.5479 - acc: 0.7644 - val_loss: 0.5677 - val_acc: 0.7200\n",
      "Epoch 10/20\n",
      "1800/1800 [==============================] - 0s 135us/step - loss: 0.5476 - acc: 0.7667 - val_loss: 0.5616 - val_acc: 0.7450\n",
      "Epoch 11/20\n",
      "1800/1800 [==============================] - 0s 144us/step - loss: 0.5479 - acc: 0.7617 - val_loss: 0.5758 - val_acc: 0.7000\n",
      "Epoch 12/20\n",
      "1800/1800 [==============================] - 0s 145us/step - loss: 0.5479 - acc: 0.7628 - val_loss: 0.5662 - val_acc: 0.7200\n",
      "Epoch 13/20\n",
      "1800/1800 [==============================] - 0s 140us/step - loss: 0.5467 - acc: 0.7644 - val_loss: 0.5817 - val_acc: 0.6950\n",
      "Epoch 14/20\n",
      "1800/1800 [==============================] - 0s 144us/step - loss: 0.5467 - acc: 0.7644 - val_loss: 0.5805 - val_acc: 0.6950\n",
      "Epoch 15/20\n",
      "1800/1800 [==============================] - 0s 141us/step - loss: 0.5468 - acc: 0.7672 - val_loss: 0.6091 - val_acc: 0.6700\n",
      "Epoch 16/20\n",
      "1800/1800 [==============================] - 0s 137us/step - loss: 0.5474 - acc: 0.7622 - val_loss: 0.5839 - val_acc: 0.6950\n",
      "Epoch 17/20\n",
      "1800/1800 [==============================] - 0s 141us/step - loss: 0.5459 - acc: 0.7650 - val_loss: 0.5763 - val_acc: 0.7000\n",
      "Epoch 18/20\n",
      "1800/1800 [==============================] - 0s 138us/step - loss: 0.5463 - acc: 0.7606 - val_loss: 0.5758 - val_acc: 0.7000\n",
      "Epoch 19/20\n",
      "1800/1800 [==============================] - 0s 148us/step - loss: 0.5458 - acc: 0.7611 - val_loss: 0.5637 - val_acc: 0.7200\n",
      "Epoch 20/20\n",
      "1800/1800 [==============================] - 0s 142us/step - loss: 0.5453 - acc: 0.7656 - val_loss: 0.5617 - val_acc: 0.7200\n"
     ]
    },
    {
     "data": {
      "text/plain": [
       "<tensorflow.python.keras._impl.keras.callbacks.History at 0x7f55233c4ba8>"
      ]
     },
     "execution_count": 40,
     "metadata": {},
     "output_type": "execute_result"
    }
   ],
   "source": [
    "model.fit(scaled_train_samples, train_labels, validation_split=0.1, batch_size=10, epochs=20, shuffle=True, verbose=1)"
   ]
  },
  {
   "cell_type": "code",
   "execution_count": null,
   "metadata": {},
   "outputs": [],
   "source": []
  }
 ],
 "metadata": {
  "kernelspec": {
   "display_name": "Python 3",
   "language": "python",
   "name": "python3"
  },
  "language_info": {
   "codemirror_mode": {
    "name": "ipython",
    "version": 3
   },
   "file_extension": ".py",
   "mimetype": "text/x-python",
   "name": "python",
   "nbconvert_exporter": "python",
   "pygments_lexer": "ipython3",
   "version": "3.6.4"
  }
 },
 "nbformat": 4,
 "nbformat_minor": 2
}
