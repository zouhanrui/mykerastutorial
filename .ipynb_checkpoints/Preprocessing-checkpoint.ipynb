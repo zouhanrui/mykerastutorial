{
 "cells": [
  {
   "cell_type": "code",
   "execution_count": 3,
   "metadata": {},
   "outputs": [],
   "source": [
    "import numpy as np\n",
    "from sklearn.preprocessing import MinMaxScaler"
   ]
  },
  {
   "cell_type": "markdown",
   "metadata": {},
   "source": [
    "#Example Data\n",
    "* An experimental drug was tested on individuals from ages 10 to 100.\n",
    "* The trail had 2000 participates.\n",
    "* Half were under 50, half older.\n",
    "* 80% of younger half have negetive results.\n",
    "* 80% of older hald have positive results."
   ]
  },
  {
   "cell_type": "code",
   "execution_count": 14,
   "metadata": {},
   "outputs": [
    {
     "name": "stdout",
     "output_type": "stream",
     "text": [
      "[[21]\n",
      " [45]\n",
      " [36]\n",
      " ...\n",
      " [84]\n",
      " [76]\n",
      " [89]]\n"
     ]
    }
   ],
   "source": [
    "younger = np.random.randint(10, 51, size=1000).reshape(-1, 1)\n",
    "older = np.random.randint(51, 100, size=1000).reshape(-1, 1)\n",
    "train_samples = np.concatenate((younger, older), axis = 0)\n",
    "print(train_samples)"
   ]
  },
  {
   "cell_type": "code",
   "execution_count": 22,
   "metadata": {},
   "outputs": [
    {
     "name": "stdout",
     "output_type": "stream",
     "text": [
      "[[0]\n",
      " [0]\n",
      " [0]\n",
      " ...\n",
      " [1]\n",
      " [1]\n",
      " [1]]\n"
     ]
    }
   ],
   "source": [
    "younger = np.random.choice(2, size=1000, p=[0.8,0.2]).reshape(-1, 1)\n",
    "older = np.random.choice(2, size=1000, p=[0.2,0.8]).reshape(-1, 1)\n",
    "train_labels = np.concatenate((younger, older), axis=0)\n",
    "print(train_labels)"
   ]
  },
  {
   "cell_type": "code",
   "execution_count": 23,
   "metadata": {},
   "outputs": [
    {
     "name": "stdout",
     "output_type": "stream",
     "text": [
      "[[0.12359551]\n",
      " [0.39325843]\n",
      " [0.29213483]\n",
      " ...\n",
      " [0.83146067]\n",
      " [0.74157303]\n",
      " [0.88764045]]\n"
     ]
    },
    {
     "name": "stderr",
     "output_type": "stream",
     "text": [
      "/home/shared/anaconda3/lib/python3.6/site-packages/sklearn/utils/validation.py:475: DataConversionWarning: Data with input dtype int64 was converted to float64 by MinMaxScaler.\n",
      "  warnings.warn(msg, DataConversionWarning)\n"
     ]
    }
   ],
   "source": [
    "scaler = MinMaxScaler(feature_range=(0,1))\n",
    "scaled_train_samples = scaler.fit_transform(train_samples)\n",
    "print(scaled_train_samples)"
   ]
  },
  {
   "cell_type": "code",
   "execution_count": null,
   "metadata": {},
   "outputs": [],
   "source": []
  }
 ],
 "metadata": {
  "kernelspec": {
   "display_name": "Python 3",
   "language": "python",
   "name": "python3"
  },
  "language_info": {
   "codemirror_mode": {
    "name": "ipython",
    "version": 3
   },
   "file_extension": ".py",
   "mimetype": "text/x-python",
   "name": "python",
   "nbconvert_exporter": "python",
   "pygments_lexer": "ipython3",
   "version": "3.6.4"
  }
 },
 "nbformat": 4,
 "nbformat_minor": 2
}
