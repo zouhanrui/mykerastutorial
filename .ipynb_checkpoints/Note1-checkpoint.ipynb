{
 "cells": [
  {
   "cell_type": "code",
   "execution_count": 1,
   "metadata": {},
   "outputs": [
    {
     "name": "stderr",
     "output_type": "stream",
     "text": [
      "/home/shared/anaconda3/lib/python3.6/site-packages/h5py/__init__.py:36: FutureWarning: Conversion of the second argument of issubdtype from `float` to `np.floating` is deprecated. In future, it will be treated as `np.float64 == np.dtype(float).type`.\n",
      "  from ._conv import register_converters as _register_converters\n"
     ]
    }
   ],
   "source": [
    "import tensorflow as tf\n",
    "import numpy as np\n",
    "from sklearn.preprocessing import MinMaxScaler"
   ]
  },
  {
   "cell_type": "markdown",
   "metadata": {},
   "source": [
    "# Example Data\n",
    "* An experimental drug was tested on individuals from ages 10 to 100.\n",
    "* The trail had 2000 participates.\n",
    "* Half were under 50, half older.\n",
    "* 80% of younger half have negetive results.\n",
    "* 80% of older hald have positive results."
   ]
  },
  {
   "cell_type": "code",
   "execution_count": 2,
   "metadata": {},
   "outputs": [],
   "source": [
    "younger = np.random.randint(10, 51, size=1000).reshape(-1, 1)\n",
    "older = np.random.randint(51, 100, size=1000).reshape(-1, 1)\n",
    "train_samples = np.concatenate((younger, older), axis = 0)"
   ]
  },
  {
   "cell_type": "code",
   "execution_count": 3,
   "metadata": {},
   "outputs": [],
   "source": [
    "younger = np.random.choice(2, size=1000, p=[0.8,0.2]).reshape(-1, 1)\n",
    "older = np.random.choice(2, size=1000, p=[0.2,0.8]).reshape(-1, 1)\n",
    "train_labels = np.concatenate((younger, older), axis=0)"
   ]
  },
  {
   "cell_type": "code",
   "execution_count": 4,
   "metadata": {},
   "outputs": [
    {
     "name": "stderr",
     "output_type": "stream",
     "text": [
      "/home/shared/anaconda3/lib/python3.6/site-packages/sklearn/utils/validation.py:475: DataConversionWarning: Data with input dtype int64 was converted to float64 by MinMaxScaler.\n",
      "  warnings.warn(msg, DataConversionWarning)\n"
     ]
    }
   ],
   "source": [
    "scaler = MinMaxScaler(feature_range=(0,1))\n",
    "scaled_train_samples = scaler.fit_transform(train_samples)"
   ]
  },
  {
   "cell_type": "code",
   "execution_count": 5,
   "metadata": {},
   "outputs": [],
   "source": [
    "shuffle = np.arange(2000)\n",
    "np.random.shuffle(shuffle)\n",
    "scaled_train_samples = scaled_train_samples[shuffle]\n",
    "train_labels = train_labels[shuffle]"
   ]
  },
  {
   "cell_type": "markdown",
   "metadata": {},
   "source": [
    "## Three-layer NN with Adam optimizer"
   ]
  },
  {
   "cell_type": "code",
   "execution_count": 6,
   "metadata": {},
   "outputs": [
    {
     "name": "stderr",
     "output_type": "stream",
     "text": [
      "Using TensorFlow backend.\n"
     ]
    }
   ],
   "source": [
    "import keras\n",
    "from keras import backend as K\n",
    "from keras.models import Sequential\n",
    "from keras.layers import Activation\n",
    "from keras.layers.core import Dense\n",
    "from keras.optimizers import Adam\n",
    "from keras.metrics import categorical_crossentropy"
   ]
  },
  {
   "cell_type": "code",
   "execution_count": 7,
   "metadata": {},
   "outputs": [],
   "source": [
    "model = Sequential([\n",
    "    Dense(16, input_shape=(1,), activation='relu'),\n",
    "    Dense(32, activation='relu'),\n",
    "    Dense(2, activation='softmax')\n",
    "])"
   ]
  },
  {
   "cell_type": "code",
   "execution_count": 8,
   "metadata": {},
   "outputs": [
    {
     "name": "stdout",
     "output_type": "stream",
     "text": [
      "_________________________________________________________________\n",
      "Layer (type)                 Output Shape              Param #   \n",
      "=================================================================\n",
      "dense_1 (Dense)              (None, 16)                32        \n",
      "_________________________________________________________________\n",
      "dense_2 (Dense)              (None, 32)                544       \n",
      "_________________________________________________________________\n",
      "dense_3 (Dense)              (None, 2)                 66        \n",
      "=================================================================\n",
      "Total params: 642\n",
      "Trainable params: 642\n",
      "Non-trainable params: 0\n",
      "_________________________________________________________________\n"
     ]
    }
   ],
   "source": [
    "model.summary()"
   ]
  },
  {
   "cell_type": "code",
   "execution_count": 9,
   "metadata": {},
   "outputs": [],
   "source": [
    "model.compile(Adam(lr=.0001), loss='sparse_categorical_crossentropy', metrics=['accuracy'])"
   ]
  },
  {
   "cell_type": "code",
   "execution_count": 10,
   "metadata": {},
   "outputs": [
    {
     "name": "stdout",
     "output_type": "stream",
     "text": [
      "Train on 1800 samples, validate on 200 samples\n",
      "Epoch 1/20\n",
      "1800/1800 [==============================] - 2s 1ms/step - loss: 0.7037 - acc: 0.5033 - val_loss: 0.6956 - val_acc: 0.4650\n",
      "Epoch 2/20\n",
      "1800/1800 [==============================] - 0s 167us/step - loss: 0.6883 - acc: 0.6233 - val_loss: 0.6816 - val_acc: 0.6050\n",
      "Epoch 3/20\n",
      "1800/1800 [==============================] - 0s 168us/step - loss: 0.6738 - acc: 0.6372 - val_loss: 0.6687 - val_acc: 0.6150\n",
      "Epoch 4/20\n",
      "1800/1800 [==============================] - 0s 170us/step - loss: 0.6605 - acc: 0.6850 - val_loss: 0.6568 - val_acc: 0.6250\n",
      "Epoch 5/20\n",
      "1800/1800 [==============================] - 0s 171us/step - loss: 0.6480 - acc: 0.6839 - val_loss: 0.6472 - val_acc: 0.6400\n",
      "Epoch 6/20\n",
      "1800/1800 [==============================] - 0s 172us/step - loss: 0.6366 - acc: 0.7072 - val_loss: 0.6386 - val_acc: 0.6850\n",
      "Epoch 7/20\n",
      "1800/1800 [==============================] - 0s 166us/step - loss: 0.6253 - acc: 0.7339 - val_loss: 0.6299 - val_acc: 0.7150\n",
      "Epoch 8/20\n",
      "1800/1800 [==============================] - 0s 174us/step - loss: 0.6142 - acc: 0.7433 - val_loss: 0.6217 - val_acc: 0.7450\n",
      "Epoch 9/20\n",
      "1800/1800 [==============================] - 0s 170us/step - loss: 0.6036 - acc: 0.7583 - val_loss: 0.6141 - val_acc: 0.7450\n",
      "Epoch 10/20\n",
      "1800/1800 [==============================] - 0s 161us/step - loss: 0.5934 - acc: 0.7622 - val_loss: 0.6077 - val_acc: 0.7450\n",
      "Epoch 11/20\n",
      "1800/1800 [==============================] - 0s 166us/step - loss: 0.5836 - acc: 0.7811 - val_loss: 0.6016 - val_acc: 0.7450\n",
      "Epoch 12/20\n",
      "1800/1800 [==============================] - 0s 172us/step - loss: 0.5746 - acc: 0.7856 - val_loss: 0.5964 - val_acc: 0.7550\n",
      "Epoch 13/20\n",
      "1800/1800 [==============================] - 0s 173us/step - loss: 0.5653 - acc: 0.7939 - val_loss: 0.5912 - val_acc: 0.7700\n",
      "Epoch 14/20\n",
      "1800/1800 [==============================] - 0s 168us/step - loss: 0.5580 - acc: 0.7978 - val_loss: 0.5884 - val_acc: 0.7650\n",
      "Epoch 15/20\n",
      "1800/1800 [==============================] - 0s 174us/step - loss: 0.5524 - acc: 0.7967 - val_loss: 0.5856 - val_acc: 0.7700\n",
      "Epoch 16/20\n",
      "1800/1800 [==============================] - 0s 170us/step - loss: 0.5480 - acc: 0.8011 - val_loss: 0.5841 - val_acc: 0.7650\n",
      "Epoch 17/20\n",
      "1800/1800 [==============================] - 0s 161us/step - loss: 0.5442 - acc: 0.7956 - val_loss: 0.5834 - val_acc: 0.7650\n",
      "Epoch 18/20\n",
      "1800/1800 [==============================] - 0s 165us/step - loss: 0.5412 - acc: 0.7972 - val_loss: 0.5820 - val_acc: 0.7650\n",
      "Epoch 19/20\n",
      "1800/1800 [==============================] - 0s 169us/step - loss: 0.5387 - acc: 0.7933 - val_loss: 0.5816 - val_acc: 0.7650\n",
      "Epoch 20/20\n",
      "1800/1800 [==============================] - 0s 168us/step - loss: 0.5366 - acc: 0.7933 - val_loss: 0.5814 - val_acc: 0.7650\n"
     ]
    },
    {
     "data": {
      "text/plain": [
       "<keras.callbacks.History at 0x7f247c324160>"
      ]
     },
     "execution_count": 10,
     "metadata": {},
     "output_type": "execute_result"
    }
   ],
   "source": [
    "model.fit(scaled_train_samples, train_labels, validation_split=0.1, batch_size=10, epochs=20, shuffle=True, verbose=1)"
   ]
  },
  {
   "cell_type": "code",
   "execution_count": 29,
   "metadata": {},
   "outputs": [
    {
     "name": "stderr",
     "output_type": "stream",
     "text": [
      "/home/shared/anaconda3/lib/python3.6/site-packages/sklearn/utils/validation.py:475: DataConversionWarning: Data with input dtype int64 was converted to float64 by MinMaxScaler.\n",
      "  warnings.warn(msg, DataConversionWarning)\n"
     ]
    }
   ],
   "source": [
    "younger = np.random.randint(10, 51, size=100).reshape(-1, 1)\n",
    "older = np.random.randint(51, 100, size=100).reshape(-1, 1)\n",
    "test_samples = np.concatenate((younger, older), axis = 0)\n",
    "younger = np.random.choice(2, size=100, p=[0.8,0.2]).reshape(-1, 1)\n",
    "older = np.random.choice(2, size=100, p=[0.2,0.8]).reshape(-1, 1)\n",
    "test_labels = np.concatenate((younger, older), axis=0)\n",
    "scaler = MinMaxScaler(feature_range=(0,1))\n",
    "scaled_test_samples = scaler.fit_transform(test_samples)\n",
    "shuffle = np.arange(200)\n",
    "np.random.shuffle(shuffle)\n",
    "scaled_test_samples = scaled_test_samples[shuffle]\n",
    "test_labels = test_labels[shuffle]"
   ]
  },
  {
   "cell_type": "code",
   "execution_count": 12,
   "metadata": {},
   "outputs": [
    {
     "data": {
      "text/plain": [
       "array([[0.3747001 , 0.6252999 ],\n",
       "       [0.7730988 , 0.22690113],\n",
       "       [0.7701804 , 0.22981955],\n",
       "       [0.19588493, 0.80411506],\n",
       "       [0.71522236, 0.2847776 ],\n",
       "       [0.70571434, 0.29428568],\n",
       "       [0.3428133 , 0.6571867 ],\n",
       "       [0.71522236, 0.2847776 ],\n",
       "       [0.7730988 , 0.22690113],\n",
       "       [0.22669181, 0.7733082 ],\n",
       "       [0.6343864 , 0.36561367],\n",
       "       [0.7738826 , 0.2261174 ],\n",
       "       [0.18081471, 0.81918526],\n",
       "       [0.23356116, 0.76643884],\n",
       "       [0.76416457, 0.23583542],\n",
       "       [0.21633565, 0.78366435],\n",
       "       [0.7738826 , 0.2261174 ],\n",
       "       [0.7772449 , 0.22275507],\n",
       "       [0.43021405, 0.56978595],\n",
       "       [0.7754443 , 0.22455561],\n",
       "       [0.49909374, 0.5009063 ],\n",
       "       [0.7778735 , 0.22212656],\n",
       "       [0.45300737, 0.54699266],\n",
       "       [0.49909374, 0.5009063 ],\n",
       "       [0.2741728 , 0.72582716],\n",
       "       [0.7730988 , 0.22690113],\n",
       "       [0.7776495 , 0.22235043],\n",
       "       [0.7759025 , 0.2240975 ],\n",
       "       [0.7730988 , 0.22690113],\n",
       "       [0.7778734 , 0.22212654],\n",
       "       [0.6343864 , 0.36561367],\n",
       "       [0.64503986, 0.35496017],\n",
       "       [0.61268914, 0.3873109 ],\n",
       "       [0.77282804, 0.22717193],\n",
       "       [0.3855919 , 0.61440814],\n",
       "       [0.76416457, 0.23583542],\n",
       "       [0.76718605, 0.23281395],\n",
       "       [0.76718605, 0.23281395],\n",
       "       [0.6761168 , 0.32388318],\n",
       "       [0.2833032 , 0.71669674],\n",
       "       [0.55663157, 0.4433684 ],\n",
       "       [0.49909374, 0.5009063 ],\n",
       "       [0.6235997 , 0.37640026],\n",
       "       [0.7336725 , 0.26632753],\n",
       "       [0.26556808, 0.7344319 ],\n",
       "       [0.1566423 , 0.84335774],\n",
       "       [0.203843  , 0.796157  ],\n",
       "       [0.15341268, 0.84658724],\n",
       "       [0.77282804, 0.22717193],\n",
       "       [0.6761168 , 0.32388318],\n",
       "       [0.5106485 , 0.48935148],\n",
       "       [0.3747001 , 0.6252999 ],\n",
       "       [0.5221919 , 0.47780812],\n",
       "       [0.48753998, 0.51246005],\n",
       "       [0.23356116, 0.76643884],\n",
       "       [0.7769547 , 0.22304532],\n",
       "       [0.18823402, 0.811766  ],\n",
       "       [0.19203041, 0.8079696 ],\n",
       "       [0.7754443 , 0.22455561],\n",
       "       [0.7754443 , 0.22455561],\n",
       "       [0.665913  , 0.33408698],\n",
       "       [0.16326739, 0.83673257],\n",
       "       [0.65555143, 0.3444486 ],\n",
       "       [0.774577  , 0.22542298],\n",
       "       [0.24102996, 0.75897   ],\n",
       "       [0.665913  , 0.33408698],\n",
       "       [0.7772449 , 0.22275507],\n",
       "       [0.203843  , 0.796157  ],\n",
       "       [0.70571434, 0.29428568],\n",
       "       [0.5337117 , 0.4662884 ],\n",
       "       [0.15341268, 0.84658724],\n",
       "       [0.7730988 , 0.22690113],\n",
       "       [0.6960237 , 0.30397627],\n",
       "       [0.70571434, 0.29428568],\n",
       "       [0.5337117 , 0.4662884 ],\n",
       "       [0.15023777, 0.8497622 ],\n",
       "       [0.32229757, 0.6777024 ],\n",
       "       [0.65555143, 0.3444486 ],\n",
       "       [0.2571377 , 0.74286234],\n",
       "       [0.61268914, 0.3873109 ],\n",
       "       [0.23356116, 0.76643884],\n",
       "       [0.3428133 , 0.6571867 ],\n",
       "       [0.3747001 , 0.6252999 ],\n",
       "       [0.7778735 , 0.22212656],\n",
       "       [0.7769547 , 0.22304532],\n",
       "       [0.7738826 , 0.2261174 ],\n",
       "       [0.7512395 , 0.24876055],\n",
       "       [0.7723132 , 0.22768682],\n",
       "       [0.41892123, 0.58107877],\n",
       "       [0.3855919 , 0.6144081 ],\n",
       "       [0.7772449 , 0.22275507],\n",
       "       [0.28330323, 0.71669674],\n",
       "       [0.6761168 , 0.32388315],\n",
       "       [0.3639337 , 0.63606626],\n",
       "       [0.203843  , 0.796157  ],\n",
       "       [0.48753998, 0.51246005],\n",
       "       [0.23356116, 0.76643884],\n",
       "       [0.5793129 , 0.42068708],\n",
       "       [0.75891083, 0.2410892 ],\n",
       "       [0.23356117, 0.76643884],\n",
       "       [0.2079466 , 0.79205346],\n",
       "       [0.44157994, 0.5584201 ],\n",
       "       [0.19588493, 0.80411506],\n",
       "       [0.29278222, 0.70721775],\n",
       "       [0.40771273, 0.5922873 ],\n",
       "       [0.46448454, 0.5355154 ],\n",
       "       [0.17362534, 0.8263746 ],\n",
       "       [0.44157994, 0.5584201 ],\n",
       "       [0.17719144, 0.82280856],\n",
       "       [0.17011617, 0.82988375],\n",
       "       [0.35330197, 0.646698  ],\n",
       "       [0.72454315, 0.2754568 ],\n",
       "       [0.47599941, 0.5240005 ],\n",
       "       [0.59053534, 0.40946463],\n",
       "       [0.19588493, 0.80411506],\n",
       "       [0.19979995, 0.80020005],\n",
       "       [0.23356116, 0.76643884],\n",
       "       [0.7738826 , 0.2261174 ],\n",
       "       [0.41892123, 0.58107877],\n",
       "       [0.21633561, 0.78366435],\n",
       "       [0.7730988 , 0.22690113],\n",
       "       [0.6960237 , 0.30397627],\n",
       "       [0.77466446, 0.22533557],\n",
       "       [0.22669181, 0.77330816],\n",
       "       [0.15341268, 0.84658724],\n",
       "       [0.19979995, 0.80020005],\n",
       "       [0.19979995, 0.80020005],\n",
       "       [0.76416457, 0.23583542],\n",
       "       [0.41892123, 0.58107877],\n",
       "       [0.22073968, 0.77926034],\n",
       "       [0.7759025 , 0.2240975 ],\n",
       "       [0.15341268, 0.84658724],\n",
       "       [0.76718605, 0.23281395],\n",
       "       [0.6861559 , 0.31384408],\n",
       "       [0.19203041, 0.8079696 ],\n",
       "       [0.16666363, 0.83333635],\n",
       "       [0.2121108 , 0.7878892 ],\n",
       "       [0.665913  , 0.33408698],\n",
       "       [0.61268914, 0.3873109 ],\n",
       "       [0.46448454, 0.5355154 ],\n",
       "       [0.59053534, 0.40946463],\n",
       "       [0.16326739, 0.83673257],\n",
       "       [0.7701804 , 0.22981955],\n",
       "       [0.6016643 , 0.39833573],\n",
       "       [0.7778735 , 0.22212656],\n",
       "       [0.17719142, 0.8228086 ],\n",
       "       [0.6960237 , 0.30397627],\n",
       "       [0.22669181, 0.77330816],\n",
       "       [0.56800795, 0.4319921 ],\n",
       "       [0.19588493, 0.80411506],\n",
       "       [0.3747001 , 0.6252999 ],\n",
       "       [0.16666363, 0.83333635],\n",
       "       [0.19588493, 0.80411506],\n",
       "       [0.16666363, 0.83333635],\n",
       "       [0.7701804 , 0.22981955],\n",
       "       [0.45300737, 0.54699266],\n",
       "       [0.23356116, 0.76643884],\n",
       "       [0.7589108 , 0.2410892 ],\n",
       "       [0.22669181, 0.7733082 ],\n",
       "       [0.6016643 , 0.39833573],\n",
       "       [0.35330197, 0.646698  ],\n",
       "       [0.5793129 , 0.42068708],\n",
       "       [0.56800795, 0.43199208],\n",
       "       [0.41892126, 0.58107877],\n",
       "       [0.7723132 , 0.22768682],\n",
       "       [0.70571434, 0.29428568],\n",
       "       [0.40771273, 0.5922873 ],\n",
       "       [0.17719142, 0.8228086 ],\n",
       "       [0.7701804 , 0.22981955],\n",
       "       [0.74260676, 0.25739324],\n",
       "       [0.2079466 , 0.79205346],\n",
       "       [0.7778735 , 0.22212656],\n",
       "       [0.1599271 , 0.84007293],\n",
       "       [0.6761168 , 0.32388315],\n",
       "       [0.774577  , 0.22542298],\n",
       "       [0.44157994, 0.5584201 ],\n",
       "       [0.7701804 , 0.22981955],\n",
       "       [0.41892126, 0.58107877],\n",
       "       [0.77466446, 0.22533555],\n",
       "       [0.2571377 , 0.74286234],\n",
       "       [0.7589108 , 0.2410892 ],\n",
       "       [0.7589108 , 0.2410892 ],\n",
       "       [0.19203041, 0.8079696 ],\n",
       "       [0.77680063, 0.22319934],\n",
       "       [0.7589108 , 0.2410892 ],\n",
       "       [0.24896798, 0.75103205],\n",
       "       [0.23356116, 0.76643884],\n",
       "       [0.32229757, 0.6777024 ],\n",
       "       [0.1566423 , 0.84335774],\n",
       "       [0.55663157, 0.4433684 ],\n",
       "       [0.6861559 , 0.31384408],\n",
       "       [0.3428133 , 0.6571867 ],\n",
       "       [0.5221919 , 0.47780812],\n",
       "       [0.48753998, 0.51246005],\n",
       "       [0.76416457, 0.23583542],\n",
       "       [0.41892126, 0.58107877],\n",
       "       [0.7426067 , 0.25739324],\n",
       "       [0.6343864 , 0.36561367],\n",
       "       [0.774577  , 0.22542295],\n",
       "       [0.3855919 , 0.6144081 ]], dtype=float32)"
      ]
     },
     "execution_count": 12,
     "metadata": {},
     "output_type": "execute_result"
    }
   ],
   "source": [
    "model.predict(scaled_test_samples, batch_size=10, verbose=0)"
   ]
  },
  {
   "cell_type": "code",
   "execution_count": 13,
   "metadata": {},
   "outputs": [],
   "source": [
    "prediction = model.predict_classes(scaled_test_samples, batch_size=10, verbose=0)"
   ]
  },
  {
   "cell_type": "markdown",
   "metadata": {},
   "source": [
    "# Confusion Matrix"
   ]
  },
  {
   "cell_type": "code",
   "execution_count": 14,
   "metadata": {},
   "outputs": [],
   "source": [
    "%matplotlib inline\n",
    "from sklearn.metrics import confusion_matrix\n",
    "import itertools\n",
    "import matplotlib.pyplot as plt"
   ]
  },
  {
   "cell_type": "code",
   "execution_count": 15,
   "metadata": {},
   "outputs": [],
   "source": [
    "cm = confusion_matrix(test_labels, prediction)"
   ]
  },
  {
   "cell_type": "code",
   "execution_count": 16,
   "metadata": {},
   "outputs": [],
   "source": [
    "def plot_confusion_matrix(cm, classes,\n",
    "                         normalization=False,\n",
    "                         title='Confusion Matrix',\n",
    "                         cmap=plt.cm.Blues):\n",
    "    \"\"\"\n",
    "    This is function prints and plots the confusion matrix.\n",
    "    Normalization can be applied by setting 'True'.\n",
    "    \"\"\"\n",
    "    plt.imshow(cm, interpolation='nearest', cmap=cmap)\n",
    "    plt.title(title)\n",
    "    plt.colorbar()\n",
    "    tick_marks = np.arange(len(classes))\n",
    "    plt.xticks(tick_marks, classes, rotation=45)\n",
    "    plt.yticks(tick_marks, classes)\n",
    "    \n",
    "    if normalization:\n",
    "        cm = cm.astype('float') / cm.sum(axis=1)[:, np.newaxis]\n",
    "        print(\"Normalization confusion matrix\")\n",
    "    else:\n",
    "        print('Confusion matrix, without normalization')\n",
    "    \n",
    "    print(cm)\n",
    "    \n",
    "    thresh = cm.max() / 2\n",
    "    for i, j in itertools.product(range(cm.shape[0]), range(cm.shape[1])):\n",
    "        plt.text(j, i, cm[i, j],\n",
    "                horizontalalignment=\"center\",\n",
    "                color=\"red\" if cm[i, j] > thresh else \"black\")\n",
    "        \n",
    "    plt.tight_layout()\n",
    "    plt.ylabel('True label')\n",
    "    plt.xlabel('Predicted label')"
   ]
  },
  {
   "cell_type": "code",
   "execution_count": 17,
   "metadata": {},
   "outputs": [
    {
     "name": "stdout",
     "output_type": "stream",
     "text": [
      "Confusion matrix, without normalization\n",
      "[[51 50]\n",
      " [50 49]]\n"
     ]
    },
    {
     "data": {
      "image/png": "[encoded data removed]",
      "text/plain": [
       "<matplotlib.figure.Figure at 0x7f24701ba6d8>"
      ]
     },
     "metadata": {},
     "output_type": "display_data"
    }
   ],
   "source": [
    "cm_plot_labels = ['positive', 'negetive']\n",
    "plot_confusion_matrix(cm, cm_plot_labels, title='Confusion Matrix')"
   ]
  },
  {
   "cell_type": "markdown",
   "metadata": {},
   "source": [
    "# Save and Load Model\n",
    "## 1. model.save()"
   ]
  },
  {
   "cell_type": "code",
   "execution_count": 18,
   "metadata": {},
   "outputs": [],
   "source": [
    "model.save('first_model.h5')"
   ]
  },
  {
   "cell_type": "markdown",
   "metadata": {},
   "source": [
    "This function saves:\n",
    "* The architecture of the model, allowing to recreate the model\n",
    "* The weights of the model\n",
    "* The training configuration(loss, optimizer)\n",
    "* The state of thte optimizer, allowing to resume training exactly where you left off"
   ]
  },
  {
   "cell_type": "code",
   "execution_count": 19,
   "metadata": {},
   "outputs": [],
   "source": [
    "from keras.models import load_model\n",
    "new_model = load_model('first_model.h5')"
   ]
  },
  {
   "cell_type": "code",
   "execution_count": 20,
   "metadata": {},
   "outputs": [
    {
     "name": "stdout",
     "output_type": "stream",
     "text": [
      "_________________________________________________________________\n",
      "Layer (type)                 Output Shape              Param #   \n",
      "=================================================================\n",
      "dense_1 (Dense)              (None, 16)                32        \n",
      "_________________________________________________________________\n",
      "dense_2 (Dense)              (None, 32)                544       \n",
      "_________________________________________________________________\n",
      "dense_3 (Dense)              (None, 2)                 66        \n",
      "=================================================================\n",
      "Total params: 642\n",
      "Trainable params: 642\n",
      "Non-trainable params: 0\n",
      "_________________________________________________________________\n"
     ]
    }
   ],
   "source": [
    "new_model.summary()"
   ]
  },
  {
   "cell_type": "code",
   "execution_count": 21,
   "metadata": {},
   "outputs": [
    {
     "data": {
      "text/plain": [
       "[array([[ 0.47651103, -0.17376271, -0.33923426, -0.2947242 ,  0.41391018,\n",
       "         -0.5605991 , -0.46536398,  0.71695   ,  0.32736814, -0.00592934,\n",
       "         -0.49973375, -0.03224009,  0.6212056 ,  0.2073852 ,  0.15997186,\n",
       "         -0.09088755]], dtype=float32),\n",
       " array([-0.08661903,  0.        ,  0.        ,  0.        , -0.08015214,\n",
       "         0.        ,  0.        ,  0.09176162, -0.06118227,  0.12131497,\n",
       "         0.        ,  0.        , -0.06317133, -0.03834474, -0.02281619,\n",
       "         0.        ], dtype=float32),\n",
       " array([[-0.03096911, -0.31696308, -0.04708217, -0.1904664 ,  0.38220254,\n",
       "         -0.1713376 ,  0.07629566, -0.34834242,  0.01621759,  0.17669581,\n",
       "         -0.27421743, -0.05063207, -0.43917105,  0.08256012, -0.31861347,\n",
       "         -0.2663218 , -0.29729748, -0.30591297,  0.26595768, -0.11703858,\n",
       "         -0.26540518,  0.28171176,  0.01401495,  0.14627863, -0.21207206,\n",
       "         -0.01018673,  0.486882  , -0.11921033,  0.06834646, -0.24159761,\n",
       "         -0.09411615, -0.32649088],\n",
       "        [-0.16653779, -0.22286116,  0.3010219 , -0.0032528 ,  0.21338037,\n",
       "         -0.08757913,  0.13077527,  0.01138708, -0.34318745,  0.09438467,\n",
       "         -0.3120497 ,  0.00067368,  0.05145255,  0.07538673,  0.2234954 ,\n",
       "          0.07789075, -0.09831116, -0.19498928, -0.17655255, -0.17789637,\n",
       "          0.0280903 ,  0.3096197 ,  0.32694462,  0.28990868,  0.11837608,\n",
       "          0.24581221,  0.00103927, -0.01560816, -0.2627078 ,  0.2261835 ,\n",
       "         -0.23296763,  0.05206668],\n",
       "        [-0.19175762,  0.1862767 , -0.2778443 , -0.11691587,  0.01767495,\n",
       "         -0.06709695,  0.13934726,  0.09874466,  0.1616796 ,  0.08166322,\n",
       "          0.05894059, -0.04769978,  0.17987236, -0.35123682,  0.06120211,\n",
       "          0.29058644,  0.16829947, -0.02622521, -0.27348533,  0.2750955 ,\n",
       "          0.3179414 , -0.21467657, -0.00541046, -0.25236714,  0.05809605,\n",
       "          0.3125315 ,  0.32597145,  0.13309982,  0.31788823,  0.16126844,\n",
       "         -0.30434197, -0.04405272],\n",
       "        [ 0.2692934 ,  0.31595686, -0.07321405, -0.3493462 ,  0.10809106,\n",
       "          0.22871098, -0.17481628, -0.08066484, -0.2409387 ,  0.15163246,\n",
       "         -0.11466657, -0.24000818,  0.33406857,  0.334613  ,  0.2273657 ,\n",
       "         -0.07274696, -0.28337687,  0.20927122, -0.14908664, -0.17508298,\n",
       "          0.09637383,  0.12361619, -0.25314307, -0.18945193,  0.28016934,\n",
       "         -0.342591  , -0.09203196,  0.23406199, -0.3154888 ,  0.07573223,\n",
       "          0.26336   , -0.0606949 ],\n",
       "        [-0.18680222, -0.36991483,  0.20173176, -0.28113043,  0.37088016,\n",
       "          0.35403112,  0.24046615, -0.30421054,  0.09498897,  0.06460178,\n",
       "          0.05784935,  0.20248975, -0.15592925, -0.08034429,  0.3410149 ,\n",
       "         -0.04583815,  0.04090104, -0.04191799,  0.26440093, -0.2518312 ,\n",
       "          0.13879159, -0.28964284, -0.16898297, -0.3902315 , -0.15386306,\n",
       "         -0.24209182, -0.20546648, -0.18510853,  0.36151662, -0.31837547,\n",
       "         -0.30352545, -0.22525458],\n",
       "        [-0.3280225 , -0.09165531, -0.04686123, -0.19508865, -0.27848488,\n",
       "         -0.24218446,  0.14479408,  0.04960263, -0.13527428, -0.19355468,\n",
       "          0.19004598, -0.05164683, -0.00924534,  0.32917657,  0.34734568,\n",
       "         -0.03235134, -0.28966963,  0.12878424, -0.20081498,  0.06798077,\n",
       "         -0.09674698,  0.22874698, -0.1868148 , -0.06463498, -0.17991866,\n",
       "         -0.03631666, -0.14290419,  0.35118875, -0.23423398, -0.21230042,\n",
       "          0.13280237, -0.0263288 ],\n",
       "        [ 0.01150322,  0.16277012,  0.23381713, -0.1232512 ,  0.1754457 ,\n",
       "          0.05969813,  0.10956907, -0.2716968 , -0.17754689, -0.11161412,\n",
       "         -0.2612189 ,  0.2139031 , -0.05411083,  0.12137079, -0.04612508,\n",
       "         -0.2666583 ,  0.1982424 ,  0.09494007, -0.20216848, -0.32242668,\n",
       "          0.3327357 , -0.31963587,  0.0026007 , -0.17409986,  0.02662468,\n",
       "         -0.11616868,  0.12125117, -0.13060272, -0.04627529,  0.35202935,\n",
       "         -0.13601504,  0.11373225],\n",
       "        [ 0.20690279,  0.23394014, -0.13788976, -0.24640301,  0.30978835,\n",
       "         -0.01238519,  0.36800215, -0.23612122, -0.152264  ,  0.10221207,\n",
       "          0.1636946 ,  0.08891653,  0.00963886, -0.27192283, -0.08453655,\n",
       "         -0.27935755,  0.13253066, -0.23226379, -0.08482052,  0.15624782,\n",
       "         -0.22353753,  0.06648839,  0.28493765,  0.09073818, -0.03649929,\n",
       "          0.13410784,  0.36511686,  0.07995008,  0.27775177,  0.11724566,\n",
       "          0.04631767, -0.01029346],\n",
       "        [ 0.12464791,  0.00320253,  0.29223824,  0.27586383,  0.43406755,\n",
       "          0.25327447,  0.5137057 ,  0.15984985, -0.06556237, -0.43194842,\n",
       "         -0.4165502 , -0.1086771 , -0.17355874, -0.2717046 , -0.0573479 ,\n",
       "          0.08898529,  0.13952194,  0.22527365, -0.23812476, -0.209689  ,\n",
       "         -0.00914785,  0.3114316 , -0.05597686, -0.27248162, -0.0895213 ,\n",
       "          0.19577014,  0.47530767, -0.17554452,  0.12560411, -0.4000514 ,\n",
       "         -0.30090806, -0.1504047 ],\n",
       "        [-0.13000198, -0.08903483, -0.13977481, -0.21066017,  0.11819627,\n",
       "         -0.125796  ,  0.07291157,  0.00966099, -0.13592805,  0.06890109,\n",
       "          0.23517534,  0.25182614,  0.35219985,  0.30375037, -0.22690657,\n",
       "          0.20813406,  0.25661516,  0.332614  ,  0.04852065,  0.12801918,\n",
       "          0.18185142,  0.03820903, -0.08356009,  0.21347407, -0.16904923,\n",
       "         -0.20394568,  0.14114769, -0.23210344, -0.06040001, -0.02911717,\n",
       "          0.26222873, -0.26717973],\n",
       "        [ 0.32995746,  0.17464724,  0.06513745,  0.3127629 , -0.1352714 ,\n",
       "          0.05149519,  0.14139786,  0.10717234,  0.02074629, -0.21630436,\n",
       "         -0.1743659 ,  0.10935724,  0.12724799,  0.11929345, -0.30003574,\n",
       "          0.32542077,  0.27186063,  0.31746987, -0.07441851,  0.24551609,\n",
       "          0.19069687,  0.08491468,  0.14641014, -0.21989495,  0.1722379 ,\n",
       "          0.02398813,  0.20666906,  0.08717948,  0.16232285, -0.15675509,\n",
       "         -0.30665666,  0.10657877],\n",
       "        [-0.30962735, -0.30967936,  0.32459083,  0.03372633, -0.176344  ,\n",
       "          0.03653279,  0.02659619, -0.25205255, -0.28525114, -0.282732  ,\n",
       "         -0.10007551,  0.30197135, -0.34947467,  0.2635965 ,  0.34396175,\n",
       "         -0.2601579 ,  0.01065168, -0.03915873, -0.32153282, -0.3034374 ,\n",
       "         -0.03182095, -0.02716869, -0.2609361 ,  0.12844825, -0.34129244,\n",
       "          0.27623907,  0.30577144, -0.29994893,  0.28668085,  0.01841751,\n",
       "          0.1165984 ,  0.07374325],\n",
       "        [ 0.4601861 , -0.20848297, -0.00226068,  0.14618069, -0.1593967 ,\n",
       "          0.46985215,  0.10620142, -0.19115357, -0.03048506, -0.15674505,\n",
       "         -0.23904717, -0.22043768,  0.0755885 , -0.1709788 ,  0.10672124,\n",
       "         -0.19972602, -0.29006952,  0.10272858, -0.20079367, -0.31001085,\n",
       "          0.121494  ,  0.36633104,  0.37399936, -0.11375864,  0.07689288,\n",
       "          0.0638512 ,  0.08560175, -0.13273713,  0.15716408, -0.00860999,\n",
       "         -0.26096544,  0.09592713],\n",
       "        [ 0.32240936, -0.00882258,  0.08384907,  0.27861232,  0.16610792,\n",
       "          0.2563358 , -0.15733828, -0.07429671,  0.33935192, -0.4381613 ,\n",
       "         -0.24391042, -0.14045456, -0.22546515, -0.17225881,  0.13232931,\n",
       "         -0.04795992,  0.25837013, -0.45339122, -0.16667138,  0.11671267,\n",
       "          0.03600335,  0.21037881,  0.49098104, -0.01099806, -0.24065706,\n",
       "          0.14574039, -0.00948941, -0.16851455,  0.03664897, -0.17133929,\n",
       "          0.37643084, -0.06004754],\n",
       "        [ 0.20279385,  0.07985532,  0.02064034, -0.15594986,  0.10106067,\n",
       "          0.1920057 , -0.12071563, -0.24430463, -0.32961947, -0.1908786 ,\n",
       "         -0.01109826, -0.4157501 ,  0.17914733,  0.18892601,  0.01670356,\n",
       "          0.17408784,  0.14992858, -0.02660547,  0.09885861, -0.20255803,\n",
       "          0.29528168, -0.22115278,  0.43241704, -0.18843454,  0.28061047,\n",
       "         -0.47124955,  0.1504554 ,  0.22373208,  0.43048263,  0.19702277,\n",
       "          0.06013443,  0.29363763],\n",
       "        [-0.09034169, -0.11164203, -0.1762507 ,  0.28337625, -0.15730207,\n",
       "         -0.20205958, -0.06231809, -0.02219614, -0.24876857, -0.3071852 ,\n",
       "         -0.11367351, -0.3334806 ,  0.02186063, -0.02175039, -0.11263113,\n",
       "         -0.1749047 , -0.18145448, -0.2137576 ,  0.03857508, -0.11897844,\n",
       "         -0.00498497,  0.31825706,  0.24588558,  0.24469212, -0.03168905,\n",
       "         -0.03968546, -0.02850357,  0.09828511,  0.14618045,  0.00896338,\n",
       "          0.11403808, -0.29378545]], dtype=float32),\n",
       " array([-0.03940902,  0.11944213, -0.01998489,  0.00441639, -0.06668063,\n",
       "        -0.0158614 , -0.06576528,  0.        ,  0.        ,  0.07487782,\n",
       "         0.14306587,  0.06095245,  0.12898263, -0.01190931, -0.00065856,\n",
       "        -0.00247612, -0.0527925 ,  0.17416005, -0.00756446,  0.15829185,\n",
       "        -0.00292699, -0.02516374, -0.04903504,  0.08827768, -0.00124546,\n",
       "         0.0497633 , -0.06646623, -0.00293563, -0.05297511,  0.15250969,\n",
       "         0.13194524, -0.00118752], dtype=float32),\n",
       " array([[-0.4951847 ,  0.4159203 ],\n",
       "        [ 0.04820506, -0.6554419 ],\n",
       "        [ 0.03009296, -0.32312793],\n",
       "        [ 0.03125924, -0.24596317],\n",
       "        [-0.41332048, -0.10078996],\n",
       "        [-0.5843765 ,  0.0055484 ],\n",
       "        [ 0.08243813,  0.5110991 ],\n",
       "        [-0.18295518, -0.19251274],\n",
       "        [-0.40043086,  0.00775465],\n",
       "        [ 0.02588623, -0.35555163],\n",
       "        [ 0.2900255 , -0.54812604],\n",
       "        [ 0.35093418,  0.08108593],\n",
       "        [ 0.3505735 , -0.592726  ],\n",
       "        [-0.063087  ,  0.23555686],\n",
       "        [ 0.33225238, -0.40817732],\n",
       "        [ 0.24301615,  0.26209906],\n",
       "        [-0.16454694,  0.00691618],\n",
       "        [ 0.0966528 , -0.54154676],\n",
       "        [ 0.10794587, -0.00143712],\n",
       "        [ 0.28129843, -0.58381945],\n",
       "        [-0.30155107,  0.41768765],\n",
       "        [-0.24737857, -0.12253085],\n",
       "        [-0.47320887,  0.19039655],\n",
       "        [ 0.45910406, -0.5025668 ],\n",
       "        [ 0.05167057,  0.28276318],\n",
       "        [-0.19097678, -0.29950368],\n",
       "        [-0.48904622,  0.16222508],\n",
       "        [-0.3394178 ,  0.07833433],\n",
       "        [-0.41952989, -0.10492297],\n",
       "        [-0.02547356, -0.6155425 ],\n",
       "        [ 0.35070404, -0.3780105 ],\n",
       "        [-0.25146526,  0.31948382]], dtype=float32),\n",
       " array([ 0.06190269, -0.06190268], dtype=float32)]"
      ]
     },
     "execution_count": 21,
     "metadata": {},
     "output_type": "execute_result"
    }
   ],
   "source": [
    "new_model.get_weights()"
   ]
  },
  {
   "cell_type": "code",
   "execution_count": 22,
   "metadata": {},
   "outputs": [
    {
     "data": {
      "text/plain": [
       "<keras.optimizers.Adam at 0x7f242cc737b8>"
      ]
     },
     "execution_count": 22,
     "metadata": {},
     "output_type": "execute_result"
    }
   ],
   "source": [
    "new_model.optimizer"
   ]
  },
  {
   "cell_type": "markdown",
   "metadata": {},
   "source": [
    "## 2. model.to_json()\n",
    "If you only need to save the architecture of a model, and not its weights of its training configuration, you cna use the following function to save the architecture only"
   ]
  },
  {
   "cell_type": "code",
   "execution_count": 23,
   "metadata": {},
   "outputs": [],
   "source": [
    "#save as json\n",
    "json_string = model.to_json()\n",
    "\n",
    "#save as YAML\n",
    "#yaml_string = model._to_yaml()"
   ]
  },
  {
   "cell_type": "code",
   "execution_count": 24,
   "metadata": {},
   "outputs": [
    {
     "data": {
      "text/plain": [
       "'{\"class_name\": \"Sequential\", \"config\": [{\"class_name\": \"Dense\", \"config\": {\"name\": \"dense_1\", \"trainable\": true, \"batch_input_shape\": [null, 1], \"dtype\": \"float32\", \"units\": 16, \"activation\": \"relu\", \"use_bias\": true, \"kernel_initializer\": {\"class_name\": \"VarianceScaling\", \"config\": {\"scale\": 1.0, \"mode\": \"fan_avg\", \"distribution\": \"uniform\", \"seed\": null}}, \"bias_initializer\": {\"class_name\": \"Zeros\", \"config\": {}}, \"kernel_regularizer\": null, \"bias_regularizer\": null, \"activity_regularizer\": null, \"kernel_constraint\": null, \"bias_constraint\": null}}, {\"class_name\": \"Dense\", \"config\": {\"name\": \"dense_2\", \"trainable\": true, \"units\": 32, \"activation\": \"relu\", \"use_bias\": true, \"kernel_initializer\": {\"class_name\": \"VarianceScaling\", \"config\": {\"scale\": 1.0, \"mode\": \"fan_avg\", \"distribution\": \"uniform\", \"seed\": null}}, \"bias_initializer\": {\"class_name\": \"Zeros\", \"config\": {}}, \"kernel_regularizer\": null, \"bias_regularizer\": null, \"activity_regularizer\": null, \"kernel_constraint\": null, \"bias_constraint\": null}}, {\"class_name\": \"Dense\", \"config\": {\"name\": \"dense_3\", \"trainable\": true, \"units\": 2, \"activation\": \"softmax\", \"use_bias\": true, \"kernel_initializer\": {\"class_name\": \"VarianceScaling\", \"config\": {\"scale\": 1.0, \"mode\": \"fan_avg\", \"distribution\": \"uniform\", \"seed\": null}}, \"bias_initializer\": {\"class_name\": \"Zeros\", \"config\": {}}, \"kernel_regularizer\": null, \"bias_regularizer\": null, \"activity_regularizer\": null, \"kernel_constraint\": null, \"bias_constraint\": null}}], \"keras_version\": \"2.1.5\", \"backend\": \"tensorflow\"}'"
      ]
     },
     "execution_count": 24,
     "metadata": {},
     "output_type": "execute_result"
    }
   ],
   "source": [
    "json_string"
   ]
  },
  {
   "cell_type": "code",
   "execution_count": 25,
   "metadata": {},
   "outputs": [],
   "source": [
    "# model reconstruction from JSON:\n",
    "from keras.models import model_from_json\n",
    "model_architecture = model_from_json(json_string)\n",
    "\n",
    "# model reconstruction from YAML\n",
    "# from keras.models import model_from_yaml\n",
    "# model = model_from_yaml(yaml_string)"
   ]
  },
  {
   "cell_type": "code",
   "execution_count": 26,
   "metadata": {},
   "outputs": [
    {
     "name": "stdout",
     "output_type": "stream",
     "text": [
      "_________________________________________________________________\n",
      "Layer (type)                 Output Shape              Param #   \n",
      "=================================================================\n",
      "dense_1 (Dense)              (None, 16)                32        \n",
      "_________________________________________________________________\n",
      "dense_2 (Dense)              (None, 32)                544       \n",
      "_________________________________________________________________\n",
      "dense_3 (Dense)              (None, 2)                 66        \n",
      "=================================================================\n",
      "Total params: 642\n",
      "Trainable params: 642\n",
      "Non-trainable params: 0\n",
      "_________________________________________________________________\n"
     ]
    }
   ],
   "source": [
    "model_architecture.summary()"
   ]
  },
  {
   "cell_type": "code",
   "execution_count": 27,
   "metadata": {},
   "outputs": [
    {
     "data": {
      "text/plain": [
       "[array([[-0.09147066,  0.4825759 , -0.40045184, -0.18272778,  0.15849924,\n",
       "          0.33471602,  0.03200525, -0.591152  ,  0.10870922,  0.49889052,\n",
       "         -0.56499845,  0.15621752,  0.02770132,  0.0323205 , -0.4241336 ,\n",
       "          0.48310125]], dtype=float32),\n",
       " array([0., 0., 0., 0., 0., 0., 0., 0., 0., 0., 0., 0., 0., 0., 0., 0.],\n",
       "       dtype=float32),\n",
       " array([[ 6.38964772e-02, -2.00212002e-04,  2.65782386e-01,\n",
       "          1.81316048e-01,  1.86899155e-01, -1.87695429e-01,\n",
       "         -3.35858613e-01,  8.70880187e-02,  3.22444469e-01,\n",
       "         -1.92692772e-01, -2.32970238e-01,  3.24725360e-01,\n",
       "          3.09752256e-01,  1.32241815e-01,  3.15681010e-01,\n",
       "          2.26158887e-01, -3.49143744e-01, -2.02133328e-01,\n",
       "          1.07892811e-01, -2.09387481e-01,  1.07752293e-01,\n",
       "         -2.81223595e-01,  1.47624284e-01, -2.62450367e-01,\n",
       "          2.85611898e-01, -1.75482959e-01, -8.68919790e-02,\n",
       "          1.19855613e-01,  1.79767281e-01,  1.07814431e-01,\n",
       "         -1.73050240e-01,  3.47981244e-01],\n",
       "        [-1.11308470e-01,  3.53197008e-01, -1.16943926e-01,\n",
       "          2.28456050e-01, -9.12865996e-03, -9.49119925e-02,\n",
       "         -1.62045270e-01,  2.34567851e-01, -3.38780582e-02,\n",
       "          2.70336121e-01,  2.58138746e-01, -3.02739114e-01,\n",
       "         -7.95740783e-02, -3.06856453e-01, -2.71770358e-02,\n",
       "         -5.55868149e-02,  2.50658959e-01, -2.66705692e-01,\n",
       "          1.50738955e-02, -1.38655037e-01,  8.51684213e-02,\n",
       "         -1.56217203e-01,  2.18544751e-01, -1.21797308e-01,\n",
       "          8.74918699e-03, -2.98949122e-01,  2.35985368e-01,\n",
       "         -2.33209044e-01,  6.29744828e-02,  3.08438450e-01,\n",
       "          2.14606971e-01,  2.78958112e-01],\n",
       "        [-3.37758064e-02, -1.71407863e-01, -2.68527925e-01,\n",
       "         -1.64073035e-01,  3.42902452e-01, -2.95144767e-01,\n",
       "         -7.12426007e-02,  2.61640459e-01, -2.64690638e-01,\n",
       "         -1.21728018e-01, -2.56912947e-01,  3.12159508e-01,\n",
       "          1.28344238e-01, -2.96546817e-01,  7.07629621e-02,\n",
       "         -2.81319916e-01, -2.45675743e-01, -3.32905233e-01,\n",
       "          1.38514280e-01, -3.11784089e-01,  3.53132576e-01,\n",
       "         -3.40442091e-01,  1.76643401e-01, -3.52541536e-01,\n",
       "          3.50623578e-01,  2.61757970e-02, -2.28880137e-01,\n",
       "          2.49714524e-01, -8.60139728e-02,  3.53199273e-01,\n",
       "          3.05381566e-01, -1.67931587e-01],\n",
       "        [-2.19904974e-01, -8.71449411e-02, -3.25414389e-01,\n",
       "         -3.33940178e-01,  3.38046998e-01,  8.81387591e-02,\n",
       "          3.13432962e-01, -2.68615246e-01, -2.87246108e-01,\n",
       "          1.47529572e-01,  9.26605165e-02, -2.87622631e-01,\n",
       "          2.82047659e-01, -2.94272244e-01, -2.19237193e-01,\n",
       "         -1.49727181e-01, -1.24090016e-01, -3.14754605e-01,\n",
       "         -7.78075457e-02, -3.31555426e-01, -4.82013226e-02,\n",
       "         -5.09648025e-02,  1.05826110e-01,  4.45687771e-02,\n",
       "         -1.88118219e-02,  3.47235203e-02, -2.25348324e-01,\n",
       "         -1.68267161e-01, -2.61282802e-01,  1.55011207e-01,\n",
       "          1.41058236e-01, -3.01523447e-01],\n",
       "        [ 1.14846826e-02, -1.10640958e-01, -2.62342215e-01,\n",
       "          6.84935153e-02,  2.31827289e-01, -2.45663851e-01,\n",
       "          4.20616269e-02, -6.71970844e-02,  1.19528532e-01,\n",
       "          2.19934136e-01, -1.41549006e-01, -2.35052794e-01,\n",
       "          8.54923427e-02, -2.86892593e-01,  1.83206171e-01,\n",
       "          2.88418859e-01, -3.22885573e-01, -1.72829464e-01,\n",
       "         -7.41524994e-02, -2.36452922e-01, -2.31702551e-01,\n",
       "          1.89998299e-01,  2.33100027e-01,  1.47777647e-01,\n",
       "         -1.53667495e-01,  1.94348246e-01, -2.84342945e-01,\n",
       "         -1.10699028e-01, -2.32979655e-03, -7.83486366e-02,\n",
       "         -2.91275173e-01,  1.43801928e-01],\n",
       "        [-1.88851595e-01,  3.39235991e-01,  1.45295262e-02,\n",
       "         -2.51828432e-01,  9.18284655e-02,  1.42600536e-02,\n",
       "          2.66975164e-03, -2.32471734e-01,  1.44735634e-01,\n",
       "          3.34409624e-01,  1.71700418e-02,  5.81343174e-02,\n",
       "          3.49675983e-01, -7.13387132e-03,  2.03779727e-01,\n",
       "         -1.10990599e-01,  2.57853836e-01, -2.12946028e-01,\n",
       "          2.85053402e-01, -2.00803429e-01,  1.28200859e-01,\n",
       "         -6.18768930e-02, -2.90852368e-01, -7.61585236e-02,\n",
       "         -1.38261884e-01,  1.20918393e-01,  2.98428446e-01,\n",
       "         -4.20369208e-02,  8.58797729e-02, -1.43677890e-02,\n",
       "          1.39573067e-01,  1.07044637e-01],\n",
       "        [ 2.30416983e-01, -4.22667861e-02, -1.49816960e-01,\n",
       "          3.41971010e-01, -1.85706005e-01, -2.99094528e-01,\n",
       "         -5.78099787e-02, -1.92939416e-01,  2.34023303e-01,\n",
       "          3.37574869e-01, -2.39288807e-01,  1.02871865e-01,\n",
       "          8.39539170e-02, -3.42121899e-01, -3.50365400e-01,\n",
       "         -2.45571554e-01, -2.42967904e-01,  8.18810463e-02,\n",
       "          3.00593972e-02, -1.38835251e-01,  1.64336473e-01,\n",
       "         -1.23155534e-01, -2.25514174e-02,  2.91773945e-01,\n",
       "         -3.00668031e-01,  3.27229291e-01,  2.81488746e-01,\n",
       "         -2.46203929e-01, -2.16591954e-02, -2.97076523e-01,\n",
       "          1.62523657e-01, -9.06578600e-02],\n",
       "        [-1.64115027e-01, -1.75779328e-01, -7.65246749e-02,\n",
       "         -1.03226662e-01,  2.11056858e-01,  2.14454263e-01,\n",
       "         -1.50142074e-01,  1.14552259e-01, -2.18543887e-01,\n",
       "         -1.09641656e-01, -3.28498691e-01, -1.87260464e-01,\n",
       "         -3.26015055e-02, -1.52909949e-01,  2.76965052e-01,\n",
       "          1.54817671e-01,  2.69664556e-01, -1.96856126e-01,\n",
       "          6.95702732e-02,  9.35289264e-03,  2.38417476e-01,\n",
       "         -1.38647854e-02,  7.65999556e-02, -7.04114437e-02,\n",
       "          1.62937433e-01, -1.75949007e-01,  1.69995517e-01,\n",
       "         -2.64971167e-01, -3.07903796e-01,  9.51515734e-02,\n",
       "         -1.38484433e-01, -1.64455906e-01],\n",
       "        [ 9.45676565e-02, -7.41078854e-02,  2.76781887e-01,\n",
       "         -6.61616921e-02, -2.66762674e-01, -1.29170135e-01,\n",
       "         -1.40968144e-01, -2.56058127e-01, -3.39634210e-01,\n",
       "          4.65243757e-02,  2.79054254e-01, -6.54693842e-02,\n",
       "         -6.41607344e-02, -9.98474061e-02,  2.51473278e-01,\n",
       "          3.36321145e-01, -7.77533352e-02, -1.39663354e-01,\n",
       "         -1.17303133e-02, -3.58614028e-02, -6.11430109e-02,\n",
       "          3.36850852e-01, -4.51599360e-02,  3.34354669e-01,\n",
       "          5.28092384e-02, -2.91672200e-01, -5.12531698e-02,\n",
       "         -3.45051944e-01,  3.26857001e-01,  3.32654119e-02,\n",
       "         -3.09728414e-01,  9.55356061e-02],\n",
       "        [ 3.82195115e-02, -2.77506649e-01, -2.03116283e-01,\n",
       "          2.59703368e-01, -1.06523633e-01,  1.43067569e-01,\n",
       "         -2.27497131e-01,  1.54308289e-01, -1.33604333e-01,\n",
       "          1.09777361e-01, -4.47546542e-02,  2.91580468e-01,\n",
       "         -1.90482423e-01, -2.47660443e-01, -1.74586073e-01,\n",
       "          7.45420158e-02,  2.66189903e-01,  1.42420262e-01,\n",
       "         -1.45949230e-01, -2.80030668e-01, -2.85714507e-01,\n",
       "          1.55275673e-01,  3.24110717e-01, -8.09328258e-02,\n",
       "         -2.36071914e-01, -1.71032250e-01, -2.53507316e-01,\n",
       "         -6.16907477e-02,  1.67659134e-01, -1.73378989e-01,\n",
       "          1.85444206e-01,  1.40241086e-02],\n",
       "        [ 2.32919186e-01, -1.57749504e-01, -7.83898532e-02,\n",
       "          5.32106459e-02, -2.18413055e-01,  3.44292372e-01,\n",
       "          1.43588245e-01, -4.33155894e-02, -3.21199536e-01,\n",
       "         -2.32595801e-02, -3.87775898e-03,  1.58869833e-01,\n",
       "         -2.16259688e-01,  1.02342665e-02, -2.17024982e-02,\n",
       "          3.43331248e-01, -1.27809480e-01, -3.46422553e-01,\n",
       "          2.37397879e-01, -3.01498175e-02,  1.11629367e-02,\n",
       "         -6.57877326e-03,  1.02166831e-01,  2.11870462e-01,\n",
       "          1.83208495e-01,  1.31565332e-03,  3.19961101e-01,\n",
       "         -2.44101882e-02, -2.89406806e-01,  2.83631682e-03,\n",
       "         -1.74362853e-01,  2.88280874e-01],\n",
       "        [ 3.15660685e-01,  1.97390646e-01, -3.45531404e-01,\n",
       "          5.75241148e-02, -3.29153895e-01,  1.16790771e-01,\n",
       "          2.92132705e-01, -8.35514963e-02,  1.18837357e-02,\n",
       "         -1.02606177e-01, -3.38519216e-02, -2.14926898e-02,\n",
       "          2.42094547e-01,  1.39945149e-01, -9.27358866e-02,\n",
       "         -2.48225540e-01, -2.61695772e-01, -3.26747328e-01,\n",
       "         -3.48039240e-01, -3.12718749e-02, -2.09753066e-01,\n",
       "          5.62515855e-03,  1.79281741e-01, -1.16831154e-01,\n",
       "         -1.42376691e-01,  3.07545632e-01, -1.43427238e-01,\n",
       "          3.01797479e-01, -6.56817257e-02,  1.97985679e-01,\n",
       "         -1.79585278e-01,  2.68379003e-01],\n",
       "        [-3.46297473e-01,  3.59328091e-02, -6.62955642e-02,\n",
       "          3.06192070e-01, -7.55754411e-02,  2.58223623e-01,\n",
       "          3.35184425e-01, -6.47658110e-02,  2.35268682e-01,\n",
       "          1.07206404e-02,  6.97290003e-02,  3.40909064e-02,\n",
       "          1.65066689e-01,  4.35816050e-02, -6.20835721e-02,\n",
       "         -6.03337288e-02, -2.51754254e-01,  1.89696252e-02,\n",
       "         -2.05545291e-01, -1.19054392e-01, -3.41308206e-01,\n",
       "         -5.93647659e-02, -7.22793043e-02,  1.17830873e-01,\n",
       "          1.90304369e-01, -2.55871236e-01, -9.79146361e-03,\n",
       "         -3.32795799e-01, -1.39284208e-01, -2.80776739e-01,\n",
       "          2.81080604e-02, -9.39387083e-03],\n",
       "        [ 1.18775129e-01, -6.32566214e-03,  2.28774339e-01,\n",
       "          2.64156014e-01,  2.14711577e-01,  7.14599788e-02,\n",
       "          1.01161122e-01, -4.46496010e-02, -2.11226091e-01,\n",
       "         -2.96586871e-01,  5.69007695e-02,  1.08813733e-01,\n",
       "          2.93123722e-02, -1.65124774e-01,  1.98044389e-01,\n",
       "          3.02512735e-01,  1.02413386e-01, -2.89481759e-01,\n",
       "          3.19595486e-01, -2.97731727e-01, -1.53117135e-01,\n",
       "         -2.60534346e-01, -2.91677862e-01,  3.91939282e-03,\n",
       "         -2.70721763e-01, -5.23732603e-02,  1.85854167e-01,\n",
       "         -1.75156400e-01,  1.32863969e-01,  8.63988400e-02,\n",
       "         -3.35932642e-01,  2.43307054e-02],\n",
       "        [-1.57515332e-01, -1.77797571e-01, -1.19834706e-01,\n",
       "         -1.20964736e-01,  1.24145746e-01,  1.67452186e-01,\n",
       "         -3.69217396e-02, -1.98566109e-01,  2.52476126e-01,\n",
       "         -1.84979558e-01, -2.92698890e-01,  3.49061042e-01,\n",
       "          2.53165156e-01,  1.88710302e-01,  2.71391422e-01,\n",
       "          8.76514614e-02,  3.26877266e-01, -1.78954840e-01,\n",
       "          1.28761411e-01,  5.87280989e-02,  7.49247968e-02,\n",
       "         -1.19894043e-01,  1.84771717e-02, -9.03776884e-02,\n",
       "         -3.46579760e-01,  2.11124152e-01, -1.68013602e-01,\n",
       "         -4.98185158e-02, -2.52662182e-01,  2.52909571e-01,\n",
       "          1.93443805e-01, -6.96019828e-02],\n",
       "        [-2.66231865e-01,  3.24834287e-02, -8.79514515e-02,\n",
       "         -3.07834268e-01,  1.04953080e-01,  1.41476780e-01,\n",
       "         -2.74054915e-01,  1.41361803e-01,  1.59010619e-01,\n",
       "          3.06003690e-02,  8.24481249e-04, -3.45435828e-01,\n",
       "          3.06560844e-01, -5.06134629e-02,  9.56386030e-02,\n",
       "          1.14490390e-01, -2.18945459e-01,  2.89028257e-01,\n",
       "          5.04034162e-02, -9.75400209e-02,  7.31611252e-02,\n",
       "          3.00647706e-01, -1.77292913e-01,  7.69730508e-02,\n",
       "         -9.88729596e-02,  1.83261663e-01,  2.04949051e-01,\n",
       "         -3.16480696e-01,  1.42322391e-01,  3.51906389e-01,\n",
       "          5.31765819e-02,  2.16565758e-01]], dtype=float32),\n",
       " array([0., 0., 0., 0., 0., 0., 0., 0., 0., 0., 0., 0., 0., 0., 0., 0., 0.,\n",
       "        0., 0., 0., 0., 0., 0., 0., 0., 0., 0., 0., 0., 0., 0., 0.],\n",
       "       dtype=float32),\n",
       " array([[ 0.02204311,  0.02028847],\n",
       "        [-0.25044307, -0.21538442],\n",
       "        [-0.2259692 , -0.1644127 ],\n",
       "        [-0.02179542, -0.27826035],\n",
       "        [ 0.18225065,  0.3968574 ],\n",
       "        [ 0.02388316,  0.07485536],\n",
       "        [-0.4193068 , -0.249747  ],\n",
       "        [ 0.06532022,  0.18619439],\n",
       "        [ 0.38838372,  0.38604608],\n",
       "        [-0.3514242 , -0.095642  ],\n",
       "        [-0.33148617,  0.16579828],\n",
       "        [-0.17952614,  0.13735148],\n",
       "        [ 0.1831195 , -0.1821357 ],\n",
       "        [ 0.16389003, -0.06593651],\n",
       "        [ 0.2565172 ,  0.0720531 ],\n",
       "        [-0.0439038 , -0.05128619],\n",
       "        [ 0.28120932,  0.1035485 ],\n",
       "        [-0.02439216, -0.14660281],\n",
       "        [ 0.0591214 ,  0.06066719],\n",
       "        [-0.01237196, -0.2888851 ],\n",
       "        [-0.20317362,  0.21164152],\n",
       "        [-0.23028031, -0.19309996],\n",
       "        [ 0.35129198, -0.12112966],\n",
       "        [-0.10863724,  0.02114269],\n",
       "        [ 0.00847819, -0.04713565],\n",
       "        [ 0.08510783,  0.28929725],\n",
       "        [ 0.00569886, -0.2470533 ],\n",
       "        [ 0.00378659, -0.25138223],\n",
       "        [-0.3289349 , -0.11976275],\n",
       "        [-0.16981411,  0.26613912],\n",
       "        [-0.12758222, -0.15817681],\n",
       "        [ 0.25949356, -0.34644747]], dtype=float32),\n",
       " array([0., 0.], dtype=float32)]"
      ]
     },
     "execution_count": 27,
     "metadata": {},
     "output_type": "execute_result"
    }
   ],
   "source": [
    "model_architecture.get_weights()"
   ]
  },
  {
   "cell_type": "code",
   "execution_count": 28,
   "metadata": {},
   "outputs": [
    {
     "ename": "AttributeError",
     "evalue": "'Sequential' object has no attribute 'optimizer'",
     "output_type": "error",
     "traceback": [
      "\u001b[0;31m---------------------------------------------------------------------------\u001b[0m",
      "\u001b[0;31mAttributeError\u001b[0m                            Traceback (most recent call last)",
      "\u001b[0;32m<ipython-input-28-8c5098892bb7>\u001b[0m in \u001b[0;36m<module>\u001b[0;34m()\u001b[0m\n\u001b[0;32m----> 1\u001b[0;31m \u001b[0mmodel_architecture\u001b[0m\u001b[0;34m.\u001b[0m\u001b[0moptimizer\u001b[0m\u001b[0;34m\u001b[0m\u001b[0m\n\u001b[0m",
      "\u001b[0;31mAttributeError\u001b[0m: 'Sequential' object has no attribute 'optimizer'"
     ]
    }
   ],
   "source": [
    "model_architecture.optimizer"
   ]
  },
  {
   "cell_type": "markdown",
   "metadata": {},
   "source": [
    "## 3. model.save_weights()\n",
    "If you only need to save the weights of the model, yoiu can use the following save the weights only"
   ]
  },
  {
   "cell_type": "code",
   "execution_count": null,
   "metadata": {},
   "outputs": [],
   "source": [
    "model.save_weights('first_model.h5')"
   ]
  },
  {
   "cell_type": "code",
   "execution_count": null,
   "metadata": {},
   "outputs": [],
   "source": [
    "model2 = Sequential([\n",
    "    Dense(16, input_shape=(1,), activation='relu'),\n",
    "    Dense(32, activation='relu'),\n",
    "    Dense(2, activation='softmax')\n",
    "])"
   ]
  },
  {
   "cell_type": "code",
   "execution_count": null,
   "metadata": {},
   "outputs": [],
   "source": [
    "model2.load_weights('first_model.h5')"
   ]
  },
  {
   "cell_type": "code",
   "execution_count": null,
   "metadata": {},
   "outputs": [],
   "source": [
    "model2.get_weights()"
   ]
  },
  {
   "cell_type": "code",
   "execution_count": null,
   "metadata": {},
   "outputs": [],
   "source": []
  }
 ],
 "metadata": {
  "kernelspec": {
   "display_name": "Python 3",
   "language": "python",
   "name": "python3"
  },
  "language_info": {
   "codemirror_mode": {
    "name": "ipython",
    "version": 3
   },
   "file_extension": ".py",
   "mimetype": "text/x-python",
   "name": "python",
   "nbconvert_exporter": "python",
   "pygments_lexer": "ipython3",
   "version": "3.6.4"
  }
 },
 "nbformat": 4,
 "nbformat_minor": 2
}
